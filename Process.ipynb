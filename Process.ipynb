{
 "cells": [
  {
   "cell_type": "code",
   "execution_count": 12,
   "id": "6fc8e72d-af7f-47ba-88e1-148171f2a5f1",
   "metadata": {},
   "outputs": [
    {
     "name": "stdout",
     "output_type": "stream",
     "text": [
      "+-----+----+-------+-----------+-----------+----------------------+\n",
      "|Class|Year|Quarter|Total Score|Paper Count|Cumulative Total Score|\n",
      "+-----+----+-------+-----------+-----------+----------------------+\n",
      "| AGRI|2019|      4|     18.983|         20|                18.983|\n",
      "| ARTS|2019|      4|     0.7959|          2|                0.7959|\n",
      "| BIOC|2019|      4|    26.7993|         37|               26.7993|\n",
      "| BUSI|2019|      4|     2.4173|          5|                2.4173|\n",
      "| CENG|2019|      4|    25.8145|         19|               25.8145|\n",
      "| CHEM|2019|      4|    22.5635|         20|               22.5635|\n",
      "| COMP|2019|      4|    23.1798|         33|               23.1798|\n",
      "| DECI|2019|      4|     2.3417|          4|                2.3417|\n",
      "| DENT|2019|      4|     1.5907|          2|                1.5907|\n",
      "| EART|2019|      4|    11.0173|          6|               11.0173|\n",
      "| ECON|2019|      4|     5.8369|          8|                5.8369|\n",
      "| ENER|2019|      4|    17.9768|         11|               17.9768|\n",
      "| ENGI|2019|      4|    31.7309|         27|               31.7309|\n",
      "| ENVI|2019|      4|    33.1215|         24|               33.1215|\n",
      "| HEAL|2019|      4|     2.6133|          2|                2.6133|\n",
      "| IMMU|2019|      4|     16.095|         16|                16.095|\n",
      "| MATE|2019|      4|    12.0498|         10|               12.0498|\n",
      "| MATH|2019|      4|    21.8962|         15|               21.8962|\n",
      "| MEDI|2019|      4|    60.2074|         75|               60.2074|\n",
      "| MULT|2019|      4|    52.8098|         34|               52.8098|\n",
      "+-----+----+-------+-----------+-----------+----------------------+\n",
      "only showing top 20 rows\n",
      "\n"
     ]
    }
   ],
   "source": [
    "from pyspark.sql import SparkSession\n",
    "from pyspark.sql.functions import sum as spark_sum, col\n",
    "\n",
    "# Initialize Spark session\n",
    "spark = SparkSession.builder \\\n",
    "    .appName(\"Cumulative Score Calculation\") \\\n",
    "    .getOrCreate()\n",
    "\n",
    "# List of years for the CSV files\n",
    "years = [2019, 2020, 2021, 2022, 2023]  # Adjust this list based on your actual files and years\n",
    "\n",
    "# Read the first file to create the initial DataFrame\n",
    "df = spark.read.csv(f\"{years[0]}.csv\", header=True, inferSchema=True)\n",
    "\n",
    "# Union all other DataFrames\n",
    "for year in years[1:]:\n",
    "    temp_df = spark.read.csv(f\"output_{year}.csv\", header=True, inferSchema=True)\n",
    "    df = df.union(temp_df)\n",
    "\n",
    "# Ensure that the 'Year' and 'Score' columns are correctly typed if not already\n",
    "df = df.withColumn(\"Year\", col(\"Year\").cast(\"int\"))\n",
    "df = df.withColumn(\"Total Score\", col(\"Total Score\").cast(\"float\"))\n",
    "df.show()"
   ]
  },
  {
   "cell_type": "code",
   "execution_count": 13,
   "id": "9cdcbd4e-a30e-4b92-8937-ff436dffe41e",
   "metadata": {},
   "outputs": [
    {
     "name": "stdout",
     "output_type": "stream",
     "text": [
      "+-----+----+-------+-----------+-----------+----------------------+------------------+\n",
      "|Class|Year|Quarter|Total Score|Paper Count|Cumulative Total Score|  Cumulative Score|\n",
      "+-----+----+-------+-----------+-----------+----------------------+------------------+\n",
      "| AGRI|2019|      4|     18.983|         20|                18.983|18.982999801635742|\n",
      "| ARTS|2019|      4|     0.7959|          2|                0.7959|19.778899788856506|\n",
      "| BIOC|2019|      4|    26.7993|         37|               26.7993| 46.57819902896881|\n",
      "| BUSI|2019|      4|     2.4173|          5|                2.4173| 48.99549901485443|\n",
      "| CENG|2019|      4|    25.8145|         19|               25.8145| 74.80999982357025|\n",
      "| CHEM|2019|      4|    22.5635|         20|               22.5635| 97.37349927425385|\n",
      "| COMP|2019|      4|    23.1798|         33|               23.1798|120.55329930782318|\n",
      "| DECI|2019|      4|     2.3417|          4|                2.3417|122.89499938488007|\n",
      "| DENT|2019|      4|     1.5907|          2|                1.5907|124.48569941520691|\n",
      "| EART|2019|      4|    11.0173|          6|               11.0173|135.50299906730652|\n",
      "| ECON|2019|      4|     5.8369|          8|                5.8369|141.33989930152893|\n",
      "| ENER|2019|      4|    17.9768|         11|               17.9768|159.31670022010803|\n",
      "| ENGI|2019|      4|    31.7309|         27|               31.7309|191.04760003089905|\n",
      "| ENVI|2019|      4|    33.1215|         24|               33.1215| 224.1690981388092|\n",
      "| HEAL|2019|      4|     2.6133|          2|                2.6133|226.78239822387695|\n",
      "| IMMU|2019|      4|     16.095|         16|                16.095|242.87739753723145|\n",
      "| MATE|2019|      4|    12.0498|         10|               12.0498|254.92719745635986|\n",
      "| MATH|2019|      4|    21.8962|         15|               21.8962| 276.8233976364136|\n",
      "| MEDI|2019|      4|    60.2074|         75|               60.2074|337.03079891204834|\n",
      "| MULT|2019|      4|    52.8098|         34|               52.8098| 389.8405981063843|\n",
      "+-----+----+-------+-----------+-----------+----------------------+------------------+\n",
      "only showing top 20 rows\n",
      "\n"
     ]
    },
    {
     "name": "stderr",
     "output_type": "stream",
     "text": [
      "24/05/07 22:13:29 WARN WindowExec: No Partition Defined for Window operation! Moving all data to a single partition, this can cause serious performance degradation.\n",
      "24/05/07 22:13:29 WARN WindowExec: No Partition Defined for Window operation! Moving all data to a single partition, this can cause serious performance degradation.\n",
      "24/05/07 22:13:29 WARN WindowExec: No Partition Defined for Window operation! Moving all data to a single partition, this can cause serious performance degradation.\n",
      "24/05/07 22:13:29 WARN WindowExec: No Partition Defined for Window operation! Moving all data to a single partition, this can cause serious performance degradation.\n",
      "24/05/07 22:13:29 WARN WindowExec: No Partition Defined for Window operation! Moving all data to a single partition, this can cause serious performance degradation.\n"
     ]
    }
   ],
   "source": [
    "from pyspark.sql.window import Window\n",
    "\n",
    "# Define a window specification ordered by Year for cumulative sum\n",
    "windowSpec = Window.orderBy(\"Year\").rowsBetween(Window.unboundedPreceding, Window.currentRow)\n",
    "\n",
    "# Calculate cumulative total score\n",
    "df = df.withColumn(\"Cumulative Score\", spark_sum(\"Total Score\").over(windowSpec))\n",
    "df.show()"
   ]
  },
  {
   "cell_type": "code",
   "execution_count": 14,
   "id": "0475a0ad-793e-438a-befa-d434118a54a1",
   "metadata": {},
   "outputs": [
    {
     "name": "stderr",
     "output_type": "stream",
     "text": [
      "24/05/07 22:13:31 WARN WindowExec: No Partition Defined for Window operation! Moving all data to a single partition, this can cause serious performance degradation.\n",
      "24/05/07 22:13:31 WARN WindowExec: No Partition Defined for Window operation! Moving all data to a single partition, this can cause serious performance degradation.\n",
      "24/05/07 22:13:31 WARN WindowExec: No Partition Defined for Window operation! Moving all data to a single partition, this can cause serious performance degradation.\n",
      "24/05/07 22:13:31 WARN WindowExec: No Partition Defined for Window operation! Moving all data to a single partition, this can cause serious performance degradation.\n",
      "24/05/07 22:13:31 WARN WindowExec: No Partition Defined for Window operation! Moving all data to a single partition, this can cause serious performance degradation.\n",
      "24/05/07 22:13:31 WARN WindowExec: No Partition Defined for Window operation! Moving all data to a single partition, this can cause serious performance degradation.\n",
      "24/05/07 22:13:31 WARN WindowExec: No Partition Defined for Window operation! Moving all data to a single partition, this can cause serious performance degradation.\n",
      "24/05/07 22:13:31 WARN WindowExec: No Partition Defined for Window operation! Moving all data to a single partition, this can cause serious performance degradation.\n"
     ]
    },
    {
     "name": "stdout",
     "output_type": "stream",
     "text": [
      "+-----+----+-------+-----------+-----------+----------------------+------------------+\n",
      "|Class|Year|Quarter|Total Score|Paper Count|Cumulative Total Score|  Cumulative Score|\n",
      "+-----+----+-------+-----------+-----------+----------------------+------------------+\n",
      "| AGRI|2019|      4|     18.983|         20|                18.983|18.982999801635742|\n",
      "| ARTS|2019|      4|     0.7959|          2|                0.7959|19.778899788856506|\n",
      "| BIOC|2019|      4|    26.7993|         37|               26.7993| 46.57819902896881|\n",
      "| BUSI|2019|      4|     2.4173|          5|                2.4173| 48.99549901485443|\n",
      "| CENG|2019|      4|    25.8145|         19|               25.8145| 74.80999982357025|\n",
      "| CHEM|2019|      4|    22.5635|         20|               22.5635| 97.37349927425385|\n",
      "| COMP|2019|      4|    23.1798|         33|               23.1798|120.55329930782318|\n",
      "| DECI|2019|      4|     2.3417|          4|                2.3417|122.89499938488007|\n",
      "| DENT|2019|      4|     1.5907|          2|                1.5907|124.48569941520691|\n",
      "| EART|2019|      4|    11.0173|          6|               11.0173|135.50299906730652|\n",
      "| ECON|2019|      4|     5.8369|          8|                5.8369|141.33989930152893|\n",
      "| ENER|2019|      4|    17.9768|         11|               17.9768|159.31670022010803|\n",
      "| ENGI|2019|      4|    31.7309|         27|               31.7309|191.04760003089905|\n",
      "| ENVI|2019|      4|    33.1215|         24|               33.1215| 224.1690981388092|\n",
      "| HEAL|2019|      4|     2.6133|          2|                2.6133|226.78239822387695|\n",
      "| IMMU|2019|      4|     16.095|         16|                16.095|242.87739753723145|\n",
      "| MATE|2019|      4|    12.0498|         10|               12.0498|254.92719745635986|\n",
      "| MATH|2019|      4|    21.8962|         15|               21.8962| 276.8233976364136|\n",
      "| MEDI|2019|      4|    60.2074|         75|               60.2074|337.03079891204834|\n",
      "| MULT|2019|      4|    52.8098|         34|               52.8098| 389.8405981063843|\n",
      "+-----+----+-------+-----------+-----------+----------------------+------------------+\n",
      "only showing top 20 rows\n",
      "\n"
     ]
    },
    {
     "name": "stderr",
     "output_type": "stream",
     "text": [
      "24/05/07 22:13:31 WARN WindowExec: No Partition Defined for Window operation! Moving all data to a single partition, this can cause serious performance degradation.\n",
      "24/05/07 22:13:31 WARN WindowExec: No Partition Defined for Window operation! Moving all data to a single partition, this can cause serious performance degradation.\n"
     ]
    }
   ],
   "source": [
    "# Show the results\n",
    "df.show()\n",
    "\n",
    "# Optionally, save the result to a single CSV file\n",
    "df.coalesce(1).write.csv(\"cumulative_scores.csv\", mode=\"overwrite\", header=True)"
   ]
  }
 ],
 "metadata": {
  "kernelspec": {
   "display_name": "Python 3 (ipykernel)",
   "language": "python",
   "name": "python3"
  },
  "language_info": {
   "codemirror_mode": {
    "name": "ipython",
    "version": 3
   },
   "file_extension": ".py",
   "mimetype": "text/x-python",
   "name": "python",
   "nbconvert_exporter": "python",
   "pygments_lexer": "ipython3",
   "version": "3.12.2"
  }
 },
 "nbformat": 4,
 "nbformat_minor": 5
}
